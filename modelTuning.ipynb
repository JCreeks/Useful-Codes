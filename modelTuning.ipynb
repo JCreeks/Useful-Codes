{
 "cells": [
  {
   "cell_type": "code",
   "execution_count": 1,
   "metadata": {
    "collapsed": false,
    "deletable": true,
    "editable": true
   },
   "outputs": [
    {
     "name": "stderr",
     "output_type": "stream",
     "text": [
      "C:\\Users\\jiguo\\AppData\\Local\\Enthought\\Canopy\\User\\lib\\site-packages\\sklearn\\cross_validation.py:44: DeprecationWarning: This module was deprecated in version 0.18 in favor of the model_selection module into which all the refactored classes and functions are moved. Also note that the interface of the new CV iterators are different from that of this module. This module will be removed in 0.20.\n",
      "  \"This module will be removed in 0.20.\", DeprecationWarning)\n",
      "C:\\Users\\jiguo\\AppData\\Local\\Enthought\\Canopy\\User\\lib\\site-packages\\sklearn\\grid_search.py:43: DeprecationWarning: This module was deprecated in version 0.18 in favor of the model_selection module into which all the refactored classes and functions are moved. This module will be removed in 0.20.\n",
      "  DeprecationWarning)\n"
     ]
    }
   ],
   "source": [
    "from sklearn.grid_search import GridSearchCV\n",
    "import numpy as np\n",
    "import pandas as pd\n",
    "from sklearn.ensemble import ExtraTreesClassifier, ExtraTreesRegressor\n",
    "from sklearn.ensemble import RandomForestClassifier, RandomForestRegressor\n",
    "from sklearn.ensemble import GradientBoostingClassifier, GradientBoostingRegressor\n",
    "import xgboost as xgb\n",
    "from xgboost import XGBClassifier, XGBRegressor\n",
    "from sklearn.metrics import log_loss, mean_squared_error as mse, r2_score \n",
    "from sklearn.metrics.scorer import make_scorer"
   ]
  },
  {
   "cell_type": "code",
   "execution_count": null,
   "metadata": {
    "collapsed": false,
    "deletable": true,
    "editable": true
   },
   "outputs": [],
   "source": [
    "import kagglegym\n",
    "env = kagglegym.make()\n",
    "o = env.reset()\n",
    "excl = [env.ID_COL_NAME, env.SAMPLE_COL_NAME, env.TARGET_COL_NAME, env.TIME_COL_NAME]\n",
    "col = [c for c in o.train.columns if c not in excl]\n",
    "\n",
    "O = pd.read_hdf('../input/train.h5')\n",
    "d_mean= O[col].median(axis=0)\n",
    "\n",
    "ymean_dict = dict(o.train.groupby([\"id\"])[\"y\"].median())\n",
    "\n",
    "X_train=(O[col])[O.timestamp <= 905]\n",
    "y_train=O.y[O.timestamp <= 905]\n",
    "X_test=(O[col])[O.timestamp > 905]\n",
    "y_test=O.y[O.timestamp > 905]\n",
    "X_train=X_train.fillna(d_mean)\n",
    "X_test=X_test.fillna(d_mean)"
   ]
  },
  {
   "cell_type": "code",
   "execution_count": null,
   "metadata": {
    "collapsed": false,
    "deletable": true,
    "editable": true
   },
   "outputs": [
    {
     "name": "stdout",
     "output_type": "stream",
     "text": [
      "Fitting 5 folds for each of 2 candidates, totalling 10 fits\n",
      "[CV] max_features=auto, n_estimators=100 .............................\n",
      "[CV] .. max_features=auto, n_estimators=100, score=-0.000746 -514.4min\n"
     ]
    },
    {
     "name": "stderr",
     "output_type": "stream",
     "text": [
      "[Parallel(n_jobs=1)]: Done   1 out of   1 | elapsed: 514.4min remaining:    0.0s\n"
     ]
    },
    {
     "name": "stdout",
     "output_type": "stream",
     "text": [
      "[CV] max_features=auto, n_estimators=100 .............................\n"
     ]
    }
   ],
   "source": [
    "estimator=RandomForestRegressor()\n",
    "param_grid = {'n_estimators':[100], 'max_features':['auto','square'], 'max_depth':[4]}\n",
    "my_scorer=make_scorer(mse, greater_is_better=False)\n",
    "model = GridSearchCV(\n",
    "    estimator=estimator, param_grid=param_grid, n_jobs=-1, cv=5, verbose=20, scoring=my_scorer)\n",
    "model.fit(X_train, y_train)"
   ]
  },
  {
   "cell_type": "code",
   "execution_count": null,
   "metadata": {
    "collapsed": false,
    "deletable": true,
    "editable": true
   },
   "outputs": [],
   "source": [
    "estimator=XGBRegressor()\n",
    "param_grid = {'max_depth':[3], 'learning_rate':[.1], 'n_estimators': [100], 'subsample':[.5,1], 'colsample_bytree':[.5,1],\\\n",
    "'base_score':[.5], 'seed':[0]}\n",
    "my_scorer=make_scorer(mse, greater_is_better=False)\n",
    "model = GridSearchCV(\n",
    "    estimator=estimator, param_grid=param_grid, n_jobs=1, cv=5, verbose=20, scoring=my_scorer)\n",
    "model.fit(X_train, y_train)"
   ]
  },
  {
   "cell_type": "code",
   "execution_count": null,
   "metadata": {
    "collapsed": true,
    "deletable": true,
    "editable": true
   },
   "outputs": [],
   "source": [
    "param_grid = {'n_estimators':[500, 600, 700, 800, 900, 1000], 'max_features':['auto','sqrt'], 'max_depth':[4,5,6,7,8,9]}\n",
    "for n_est in param_grid['n_estimators']:\n",
    "    for max_feat in param_grid['max_features']:\n",
    "        for max_d in param_grid['max_depth']:\n",
    "            model=RandomForestClassifier(n_estimators=n_est, max_features=max_feat, max_depth=max_d)\n",
    "            score=CVScore(model=model, my_score=log_loss, X_train=train_X, y_train=train_y)\n",
    "            print('n_est={}, max_feat={}, max_d={}, score={}'.format(n_est, max_feat, max_d, score))"
   ]
  },
  {
   "cell_type": "code",
   "execution_count": null,
   "metadata": {
    "collapsed": true
   },
   "outputs": [],
   "source": [
    "param_grid = {'eta':[.05, .1], 'num_round':[300,400,500], 'subsample':[.8], 'colsample_bytree':[.5,.85], \\\n",
    "              'max_depth':[7,8,9], 'seed':[2017]}\n",
    "for eta in param_grid['eta']:\n",
    "    for subsample in param_grid['subsample']:\n",
    "        for colsample_bytree in param_grid['colsample_bytree']:\n",
    "            for max_depth in param_grid['max_depth']:\n",
    "                for seed in param_grid['seed']:\n",
    "                    model=xgbClass(colsample_bytree=colsample_bytree, eta=eta, eva_metric='mlogloss', \\\n",
    "                                       subsample=subsample, max_depth=max_depth, seed=seed,\\\n",
    "                                       objective='multi:softprob', num_class=3)\n",
    "                    score=CVScore(model=model, my_score=log_loss, X_train=train_X, y_train=train_y)\n",
    "                    print('eta={}, subsample={}, colsample_bytree={}, max_depth={}, seed={}, score={}'.\\\n",
    "                          format(eta, subsample, colsample_bytree, max_depth, seed, score))"
   ]
  }
 ],
 "metadata": {
  "kernelspec": {
   "display_name": "Python 2",
   "language": "python",
   "name": "python2"
  },
  "language_info": {
   "codemirror_mode": {
    "name": "ipython",
    "version": 2
   },
   "file_extension": ".py",
   "mimetype": "text/x-python",
   "name": "python",
   "nbconvert_exporter": "python",
   "pygments_lexer": "ipython2",
   "version": "2.7.13"
  }
 },
 "nbformat": 4,
 "nbformat_minor": 0
}

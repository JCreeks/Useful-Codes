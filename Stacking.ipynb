{
 "cells": [
  {
   "cell_type": "code",
   "execution_count": 14,
   "metadata": {
    "collapsed": false
   },
   "outputs": [],
   "source": [
    "import numpy as np\n",
    "import pandas as pd\n",
    "#from sklearn.cross_validation import KFold\n",
    "from sklearn.model_selection import KFold\n",
    "from sklearn.metrics import r2_score\n",
    "from sklearn.model_selection import train_test_split, TimeSeriesSplit"
   ]
  },
  {
   "cell_type": "code",
   "execution_count": 7,
   "metadata": {
    "collapsed": true
   },
   "outputs": [],
   "source": [
    "# class Ensemble(object):\n",
    "#     def __init__(self, n_folds, stacker, base_models):\n",
    "#         self.n_folds = n_folds\n",
    "#         self.stacker = stacker\n",
    "#         self.base_models = base_models\n",
    "#         self.S_train=[]\n",
    "#         self.S_test=[]\n",
    "#         self_folds=[]\n",
    "        \n",
    "#     def fit(self, X_train, y_train):\n",
    "#         X_train=np.array(X_train)\n",
    "#         y_train=np.array(y_train)\n",
    "#         self.folds = list(KFold(len(y_train), n_folds=self.n_folds, shuffle=True, random_state=17))\n",
    "#         self.S_train = np.zeros((X_train.shape[0], len(self.base_models)))\n",
    "#         for i, clf in enumerate(self.base_models):\n",
    "#             for j, (train_idx, test_idx) in enumerate(self.folds):\n",
    "#                 X_CVtrain = X_train[train_idx]\n",
    "#                 y_CVtrain = y_train[train_idx]\n",
    "#                 X_CVholdout = X_train[test_idx]\n",
    "#                 # y_holdout = y[test_idx]\n",
    "#                 clf[j].fit(X_CVtrain, y_CVtrain)\n",
    "#                 y_pred = clf[j].predict(X_CVholdout)[:]\n",
    "#                 self.S_train[test_idx, i] = y_pred\n",
    "#         self.stacker.fit(self.S_train, y_train)\n",
    "        \n",
    "#     def predict(self, X_test):    \n",
    "#         X_test=np.array(X_test)\n",
    "#         self.S_test = np.zeros((X_test.shape[0], len(self.base_models)))\n",
    "#         for i, clf in enumerate(self.base_models):\n",
    "#             S_test_i = np.zeros((X_test.shape[0], len(self.folds)))\n",
    "#             for j in range(len(self.folds)):\n",
    "#                 S_test_i[:, j] = clf[j].predict(X_test)[:]\n",
    "#             self.S_test[:, i] = S_test_i.mean(1)\n",
    "#         y_pred = self.stacker.predict(self.S_test)[:]\n",
    "#         return y_pred"
   ]
  },
  {
   "cell_type": "code",
   "execution_count": 26,
   "metadata": {
    "collapsed": false
   },
   "outputs": [],
   "source": [
    "class Ensemble(object):\n",
    "    def __init__(self, n_folds, stacker, base_models, is_TimeSeries=False):\n",
    "        self.n_folds = n_folds\n",
    "        self.stacker = stacker\n",
    "        self.base_models = base_models\n",
    "        self.S_train=[]\n",
    "        self.S_test=[]\n",
    "        self.isTS=is_TimeSeries\n",
    "        #self_folds=[]\n",
    "        \n",
    "    def fit(self, X_train, y_train):\n",
    "        X_train=np.array(X_train)\n",
    "        y_train=np.array(y_train)\n",
    "        if not self.isTS:\n",
    "            kf=KFold(n_splits=self.n_folds, shuffle=True, random_state=17)\n",
    "        else:\n",
    "            kf=TimeSeriesSplit(n_splits=self.n_folds)\n",
    "        self.S_train = np.zeros((X_train.shape[0], len(self.base_models)))\n",
    "        for i, clf in enumerate(self.base_models):\n",
    "            for j, (train_idx, test_idx) in enumerate(kf.split(X_train)):\n",
    "                X_CVtrain = X_train[train_idx]\n",
    "                y_CVtrain = y_train[train_idx]\n",
    "                X_CVholdout = X_train[test_idx]\n",
    "                # y_holdout = y[test_idx]\n",
    "                clf[j].fit(X_CVtrain, y_CVtrain)\n",
    "                y_pred = clf[j].predict(X_CVholdout)[:]\n",
    "                self.S_train[test_idx, i] = y_pred\n",
    "        self.stacker.fit(self.S_train, y_train)\n",
    "        \n",
    "    def predict(self, X_test):    \n",
    "        X_test=np.array(X_test)\n",
    "        self.S_test = np.zeros((X_test.shape[0], len(self.base_models)))\n",
    "        for i, clf in enumerate(self.base_models):\n",
    "            S_test_i = np.zeros((X_test.shape[0], self.n_folds))\n",
    "            for j in range(self.n_folds):\n",
    "                S_test_i[:, j] = clf[j].predict(X_test)[:]\n",
    "            self.S_test[:, i] = S_test_i.mean(1)\n",
    "        y_pred = self.stacker.predict(self.S_test)[:]\n",
    "        return y_pred"
   ]
  },
  {
   "cell_type": "code",
   "execution_count": 30,
   "metadata": {
    "collapsed": false
   },
   "outputs": [
    {
     "data": {
      "text/plain": [
       "0.9642498585753736"
      ]
     },
     "execution_count": 30,
     "metadata": {},
     "output_type": "execute_result"
    }
   ],
   "source": [
    "n=1000\n",
    "X=pd.DataFrame(np.random.randn(n,1))\n",
    "y=X.iloc[:,0]+.2*pd.Series(np.random.randn(n))\n",
    "X_train,y_train=X.iloc[:n/2], y.iloc[:n/2]\n",
    "X_test, y_test=X.iloc[n/2:], y.iloc[n/2:]\n",
    "from sklearn.linear_model import LinearRegression, Ridge\n"
   ]
  },
  {
   "cell_type": "code",
   "execution_count": 31,
   "metadata": {
    "collapsed": true
   },
   "outputs": [],
   "source": [
    "import kagglegym\n",
    "env = kagglegym.make()\n",
    "o = env.reset()\n",
    "excl = [env.ID_COL_NAME, env.SAMPLE_COL_NAME, env.TARGET_COL_NAME, env.TIME_COL_NAME]\n",
    "col = [c for c in o.train.columns if c not in excl]\n",
    "\n",
    "O = pd.read_hdf('../input/train.h5')\n",
    "d_mean= O[col].median(axis=0)\n",
    "\n",
    "ymean_dict = dict(o.train.groupby([\"id\"])[\"y\"].median())\n",
    "\n",
    "X_train=(O[col])[O.timestamp <= 905]\n",
    "y_train=O.y[O.timestamp <= 905]\n",
    "X_test=(O[col])[O.timestamp > 905]\n",
    "y_test=O.y[O.timestamp > 905]\n",
    "X_train=X_train.fillna(d_mean)\n",
    "X_test=X_test.fillna(d_mean)"
   ]
  },
  {
   "cell_type": "code",
   "execution_count": null,
   "metadata": {
    "collapsed": true
   },
   "outputs": [],
   "source": [
    "n_folds=5\n",
    "ensembleObj=Ensemble(n_folds=n_folds, stacker=LinearRegression(fit_intercept=False, n_jobs=7), \\\n",
    "                     base_models=[[LinearRegression() for i in np.arange(n_folds)]], is_TimeSeries=False)#,\\\n",
    "                                  #[Ridge() for i in np.arange(n_folds)]])\n",
    "ensembleObj.fit(X_train=X_train, y_train=y_train)\n",
    "pred=ensembleObj.predict(X_test=X_test)\n",
    "r2_score(y_test, pred)"
   ]
  }
 ],
 "metadata": {
  "kernelspec": {
   "display_name": "Python 2",
   "language": "python",
   "name": "python2"
  },
  "language_info": {
   "codemirror_mode": {
    "name": "ipython",
    "version": 2
   },
   "file_extension": ".py",
   "mimetype": "text/x-python",
   "name": "python",
   "nbconvert_exporter": "python",
   "pygments_lexer": "ipython2",
   "version": "2.7.11"
  }
 },
 "nbformat": 4,
 "nbformat_minor": 0
}

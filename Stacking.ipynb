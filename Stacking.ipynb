{
 "cells": [
  {
   "cell_type": "code",
   "execution_count": 1,
   "metadata": {
    "collapsed": true
   },
   "outputs": [],
   "source": [
    "import numpy as np\n",
    "import pandas as pd"
   ]
  },
  {
   "cell_type": "code",
   "execution_count": 2,
   "metadata": {
    "collapsed": true
   },
   "outputs": [],
   "source": [
    "class Ensemble(object):\n",
    "    def __init__(self, n_folds, stacker, base_models):\n",
    "        self.n_folds = n_folds\n",
    "        self.stacker = stacker\n",
    "        self.base_models = base_models\n",
    "        self.S_train=[]\n",
    "        self.S_test=[]\n",
    "        self_folds=[]\n",
    "        \n",
    "    def fit(self, X, y):\n",
    "        self.folds = list(KFold(len(y), n_folds=self.n_folds, shuffle=True, random_state=17))\n",
    "        self.S_train = np.zeros((X.shape[0], len(self.base_models)))\n",
    "        for i, clf in enumerate(self.base_models):\n",
    "            for j, (train_idx, test_idx) in enumerate(self.folds):\n",
    "                X_train = X.iloc[train_idx]\n",
    "                y_train = y.iloc[train_idx]\n",
    "                X_holdout = X.iloc[test_idx]\n",
    "                # y_holdout = y[test_idx]\n",
    "                clf[j].fit(X_train, y_train)\n",
    "                y_pred = clf[j].predict(X_holdout)[:]\n",
    "                self.S_train[test_idx, i] = y_pred\n",
    "        self.stacker.fit(self.S_train, y)\n",
    "        \n",
    "    def predict(self, X_test):             \n",
    "        self.S_test = np.zeros((X_test.shape[0], len(self.base_models)))\n",
    "        for i, clf in enumerate(self.base_models):\n",
    "            S_test_i = np.zeros((X_test.shape[0], len(self.folds)))\n",
    "            for j in range(len(self.folds)):\n",
    "                S_test_i[:, j] = clf[j].predict(X_test)[:]\n",
    "            self.S_test[:, i] = S_test_i.mean(1)\n",
    "        y_pred = self.stacker.predict(self.S_test)[:]\n",
    "        return y_pred"
   ]
  },
  {
   "cell_type": "code",
   "execution_count": null,
   "metadata": {
    "collapsed": true
   },
   "outputs": [],
   "source": []
  }
 ],
 "metadata": {
  "kernelspec": {
   "display_name": "Python 2",
   "language": "python",
   "name": "python2"
  },
  "language_info": {
   "codemirror_mode": {
    "name": "ipython",
    "version": 2
   },
   "file_extension": ".py",
   "mimetype": "text/x-python",
   "name": "python",
   "nbconvert_exporter": "python",
   "pygments_lexer": "ipython2",
   "version": "2.7.11"
  }
 },
 "nbformat": 4,
 "nbformat_minor": 0
}

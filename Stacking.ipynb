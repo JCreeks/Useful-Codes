{
 "cells": [
  {
   "cell_type": "code",
   "execution_count": 1,
   "metadata": {
    "collapsed": false
   },
   "outputs": [
    {
     "name": "stderr",
     "output_type": "stream",
     "text": [
      "C:\\Users\\jiguo\\AppData\\Local\\Enthought\\Canopy\\User\\lib\\site-packages\\sklearn\\cross_validation.py:44: DeprecationWarning: This module was deprecated in version 0.18 in favor of the model_selection module into which all the refactored classes and functions are moved. Also note that the interface of the new CV iterators are different from that of this module. This module will be removed in 0.20.\n",
      "  \"This module will be removed in 0.20.\", DeprecationWarning)\n"
     ]
    }
   ],
   "source": [
    "import numpy as np\n",
    "import pandas as pd\n",
    "from sklearn.cross_validation import KFold"
   ]
  },
  {
   "cell_type": "code",
   "execution_count": 1,
   "metadata": {
    "collapsed": true
   },
   "outputs": [],
   "source": [
    "class Ensemble(object):\n",
    "    def __init__(self, n_folds, stacker, base_models):\n",
    "        self.n_folds = n_folds\n",
    "        self.stacker = stacker\n",
    "        self.base_models = base_models\n",
    "        self.S_train=[]\n",
    "        self.S_test=[]\n",
    "        self_folds=[]\n",
    "        \n",
    "    def fit(self, X_train, y_train):\n",
    "        X_train=np.array(X_train)\n",
    "        y_train=np.array(y_train)\n",
    "        self.folds = list(KFold(len(y_train), n_folds=self.n_folds, shuffle=True, random_state=17))\n",
    "        self.S_train = np.zeros((X_train.shape[0], len(self.base_models)))\n",
    "        for i, clf in enumerate(self.base_models):\n",
    "            for j, (train_idx, test_idx) in enumerate(self.folds):\n",
    "                X_CVtrain = X_train[train_idx]\n",
    "                y_CVtrain = y_train[train_idx]\n",
    "                X_CVholdout = X_train[test_idx]\n",
    "                # y_holdout = y[test_idx]\n",
    "                clf[j].fit(X_CVtrain, y_CVtrain)\n",
    "                y_pred = clf[j].predict(X_CVholdout)[:]\n",
    "                self.S_train[test_idx, i] = y_pred\n",
    "        self.stacker.fit(self.S_train, y_train)\n",
    "        \n",
    "    def predict(self, X_test):    \n",
    "        X_test=np.array(X_test)\n",
    "        self.S_test = np.zeros((X_test.shape[0], len(self.base_models)))\n",
    "        for i, clf in enumerate(self.base_models):\n",
    "            S_test_i = np.zeros((X_test.shape[0], len(self.folds)))\n",
    "            for j in range(len(self.folds)):\n",
    "                S_test_i[:, j] = clf[j].predict(X_test)[:]\n",
    "            self.S_test[:, i] = S_test_i.mean(1)\n",
    "        y_pred = self.stacker.predict(self.S_test)[:]\n",
    "        return y_pred"
   ]
  },
  {
   "cell_type": "code",
   "execution_count": null,
   "metadata": {
    "collapsed": false
   },
   "outputs": [],
   "source": [
    "n=1000\n",
    "X=pd.DataFrame(np.random.randn(n,1))\n",
    "y=X.iloc[:,0]+.2*pd.Series(np.random.randn(n))\n",
    "X_train,y_train=X.iloc[:n/2], y.iloc[:n/2]\n",
    "X_test, y_test=X.iloc[n/2:], y.iloc[n/2:]\n",
    "from sklearn.linear_model import LinearRegression, Ridge\n",
    "n_folds=5\n",
    "ensembleObj=Ensemble(n_folds=n_folds, stacker=LinearRegression(fit_intercept=False, n_jobs=7), \\\n",
    "                     base_models=[[LinearRegression() for i in np.arange(n_folds)],\\\n",
    "                                  [Ridge() for i in np.arange(n_folds)]])\n",
    "ensembleObj.fit(X_train=X_train, y_train=y_train)\n",
    "ensembleObj.predict(X_test=X_test)"
   ]
  },
  {
   "cell_type": "code",
   "execution_count": null,
   "metadata": {
    "collapsed": true
   },
   "outputs": [],
   "source": []
  }
 ],
 "metadata": {
  "kernelspec": {
   "display_name": "Python 2",
   "language": "python",
   "name": "python2"
  },
  "language_info": {
   "codemirror_mode": {
    "name": "ipython",
    "version": 2
   },
   "file_extension": ".py",
   "mimetype": "text/x-python",
   "name": "python",
   "nbconvert_exporter": "python",
   "pygments_lexer": "ipython2",
   "version": "2.7.11"
  }
 },
 "nbformat": 4,
 "nbformat_minor": 0
}
